{
 "cells": [
  {
   "cell_type": "code",
   "execution_count": 28,
   "metadata": {
    "collapsed": true
   },
   "outputs": [],
   "source": [
    "import tensorflow as tf\n",
    "import numpy as np\n",
    "import pandas as pd\n",
    "import matplotlib.pyplot as plt\n",
    "%matplotlib inline"
   ]
  },
  {
   "cell_type": "code",
   "execution_count": 29,
   "metadata": {
    "collapsed": true
   },
   "outputs": [],
   "source": [
    "from PIL import Image\n",
    "from numpy import array\n",
    "img = Image.open(\"circle/0.png\")\n",
    "arr = array(img)"
   ]
  },
  {
   "cell_type": "code",
   "execution_count": 30,
   "metadata": {
    "collapsed": true
   },
   "outputs": [],
   "source": [
    "shape_name = [\"Circle\",\"Square\",\"Star\",\"Triangle\"]"
   ]
  },
  {
   "cell_type": "code",
   "execution_count": 31,
   "metadata": {
    "collapsed": true
   },
   "outputs": [],
   "source": [
    "shapes = []\n",
    "labels = []\n",
    "for i in range(0,3720): #3720\n",
    "    img = Image.open(\"circle/\" + str(i) + \".png\")\n",
    "    img=img.resize((60,60))\n",
    "    arr = array(img)\n",
    "    shapes.append(arr)\n",
    "    labels.append([1,0,0,0])"
   ]
  },
  {
   "cell_type": "code",
   "execution_count": 32,
   "metadata": {
    "collapsed": true
   },
   "outputs": [],
   "source": [
    "for i in range(0,3765): #3765\n",
    "    img = Image.open(\"square/\" + str(i) + \".png\")\n",
    "    img=img.resize((60,60))\n",
    "    arr = array(img)\n",
    "    shapes.append(arr)\n",
    "    labels.append([0,1,0,0])"
   ]
  },
  {
   "cell_type": "code",
   "execution_count": 33,
   "metadata": {
    "collapsed": true
   },
   "outputs": [],
   "source": [
    "for i in range(0,3765): #3765\n",
    "    img = Image.open(\"star/\" + str(i) + \".png\")\n",
    "    img=img.resize((60,60))\n",
    "    arr = array(img)\n",
    "    shapes.append(arr)\n",
    "    labels.append([0,0,1,0])"
   ]
  },
  {
   "cell_type": "code",
   "execution_count": 34,
   "metadata": {
    "collapsed": true
   },
   "outputs": [],
   "source": [
    "for i in range(0,3720):  #3720\n",
    "    img = Image.open(\"triangle/\" + str(i) + \".png\")\n",
    "    img=img.resize((60,60))\n",
    "    arr = array(img)\n",
    "    shapes.append(arr)\n",
    "    labels.append([0,0,0,1])"
   ]
  },
  {
   "cell_type": "code",
   "execution_count": 35,
   "metadata": {
    "collapsed": true
   },
   "outputs": [],
   "source": [
    "for i in range(len(shapes)):\n",
    "    shapes[i] = shapes[i].flatten()"
   ]
  },
  {
   "cell_type": "code",
   "execution_count": 36,
   "metadata": {
    "collapsed": true
   },
   "outputs": [],
   "source": [
    "shapes = np.asarray(shapes)\n",
    "labels = np.asarray(labels)"
   ]
  },
  {
   "cell_type": "code",
   "execution_count": 37,
   "metadata": {
    "collapsed": true
   },
   "outputs": [],
   "source": [
    "from sklearn.preprocessing import MinMaxScaler\n",
    "scaler = MinMaxScaler()"
   ]
  },
  {
   "cell_type": "code",
   "execution_count": 38,
   "metadata": {},
   "outputs": [],
   "source": [
    "from sklearn.cross_validation import train_test_split"
   ]
  },
  {
   "cell_type": "code",
   "execution_count": 39,
   "metadata": {},
   "outputs": [
    {
     "name": "stderr",
     "output_type": "stream",
     "text": [
      "C:\\ProgramData\\Anaconda3\\lib\\site-packages\\sklearn\\utils\\validation.py:475: DataConversionWarning: Data with input dtype uint8 was converted to float64 by MinMaxScaler.\n",
      "  warnings.warn(msg, DataConversionWarning)\n",
      "C:\\ProgramData\\Anaconda3\\lib\\site-packages\\sklearn\\utils\\validation.py:475: DataConversionWarning: Data with input dtype int32 was converted to float64 by MinMaxScaler.\n",
      "  warnings.warn(msg, DataConversionWarning)\n"
     ]
    }
   ],
   "source": [
    "X_us_train, X_us_test, y_us_train, y_us_test = train_test_split(shapes, labels, test_size=0.25, random_state=42)\n",
    "scaler.fit(X_us_train)\n",
    "X_train = scaler.transform(X_us_train)\n",
    "scaler.fit(X_us_test)\n",
    "X_test = scaler.transform(X_us_test)\n",
    "scaler.fit(y_us_train)\n",
    "y_train = scaler.transform(y_us_train)\n",
    "scaler.fit(y_us_test)\n",
    "y_test = scaler.transform(y_us_test)"
   ]
  },
  {
   "cell_type": "code",
   "execution_count": 40,
   "metadata": {
    "collapsed": true
   },
   "outputs": [],
   "source": [
    "def Display_shape_test(num):\n",
    "    #print(y_test[num])\n",
    "    label=y_test[num].argmax(axis=0)\n",
    "    image=(255-X_us_test[num]).reshape([60,60])\n",
    "    #plt.title('Example: %d Label: %d'%(num,shape_name[label]))\n",
    "    plt.imshow(image,cmap=plt.get_cmap('gray_r'))\n",
    "    plt.show()"
   ]
  },
  {
   "cell_type": "code",
   "execution_count": 41,
   "metadata": {
    "collapsed": true
   },
   "outputs": [],
   "source": [
    "def Display_shape_train(num):\n",
    "    #print(y_train[num])\n",
    "    label=y_train[num].argmax(axis=0)\n",
    "    image=(255-X__us_train[num]).reshape([60,60])\n",
    "    #plt.title('Example: %d Label: %d'%(num,shape_name[label]))\n",
    "    plt.imshow(image,cmap=plt.get_cmap('gray_r'))\n",
    "    plt.show()"
   ]
  },
  {
   "cell_type": "code",
   "execution_count": 42,
   "metadata": {},
   "outputs": [
    {
     "data": {
      "text/plain": [
       "<contextlib._GeneratorContextManager at 0x1a09d491c50>"
      ]
     },
     "execution_count": 42,
     "metadata": {},
     "output_type": "execute_result"
    }
   ],
   "source": [
    "tf.device(\"/gpu:0\")"
   ]
  },
  {
   "cell_type": "code",
   "execution_count": 43,
   "metadata": {
    "collapsed": true
   },
   "outputs": [],
   "source": [
    "sess = tf.Session()"
   ]
  },
  {
   "cell_type": "code",
   "execution_count": 44,
   "metadata": {
    "collapsed": true
   },
   "outputs": [],
   "source": [
    "x = tf.placeholder(tf.float32,[None,3600])\n",
    "y_ = tf.placeholder(tf.float32,[None,4])\n",
    "W = tf.Variable(tf.zeros([3600,4]))\n",
    "b = tf.Variable(tf.zeros([4]))"
   ]
  },
  {
   "cell_type": "code",
   "execution_count": 45,
   "metadata": {
    "collapsed": true
   },
   "outputs": [],
   "source": [
    "y = tf.nn.softmax(tf.matmul(x,W)+b)"
   ]
  },
  {
   "cell_type": "code",
   "execution_count": 46,
   "metadata": {
    "collapsed": true
   },
   "outputs": [],
   "source": [
    "cross_entropy = tf.reduce_mean(-tf.reduce_sum(y_ * tf.log(y),reduction_indices=[1]))\n",
    "LEARNING_RATE = 0.1\n",
    "TRAIN_STEPS = 1500"
   ]
  },
  {
   "cell_type": "code",
   "execution_count": 47,
   "metadata": {
    "collapsed": true
   },
   "outputs": [],
   "source": [
    "sess.run(tf.global_variables_initializer())"
   ]
  },
  {
   "cell_type": "code",
   "execution_count": 48,
   "metadata": {},
   "outputs": [
    {
     "name": "stdout",
     "output_type": "stream",
     "text": [
      "Training Step:0 Accuracy = 0.253273 Loss = 1.54156\n",
      "Training Step:100 Accuracy = 0.98958 Loss = 0.0312984\n",
      "Training Step:200 Accuracy = 0.989847 Loss = 0.0247442\n",
      "Training Step:300 Accuracy = 0.990916 Loss = 0.0215589\n",
      "Training Step:400 Accuracy = 0.991985 Loss = 0.0192197\n",
      "Training Step:500 Accuracy = 0.993053 Loss = 0.0173875\n",
      "Training Step:600 Accuracy = 0.993588 Loss = 0.0159108\n",
      "Training Step:700 Accuracy = 0.993321 Loss = 0.0146899\n",
      "Training Step:800 Accuracy = 0.993053 Loss = 0.0136567\n",
      "Training Step:900 Accuracy = 0.992786 Loss = 0.0127651\n",
      "Training Step:1000 Accuracy = 0.992519 Loss = 0.0119842\n",
      "Training Step:1100 Accuracy = 0.992252 Loss = 0.0112926\n",
      "Training Step:1200 Accuracy = 0.991985 Loss = 0.0106751\n",
      "Training Step:1300 Accuracy = 0.992519 Loss = 0.0101203\n",
      "Training Step:1400 Accuracy = 0.992252 Loss = 0.00961952\n",
      "Training Step:1500 Accuracy = 0.992252 Loss = 0.00916565\n"
     ]
    }
   ],
   "source": [
    "training = tf.train.GradientDescentOptimizer(LEARNING_RATE).minimize(cross_entropy)\n",
    "correct_prediction = tf.equal(tf.argmax(y,1),tf.argmax(y_,1))\n",
    "accuracy = tf.reduce_mean(tf.cast(correct_prediction,tf.float32))\n",
    "for i in range(TRAIN_STEPS+1):\n",
    "    sess.run(training,feed_dict={x:X_train,y_:y_train})\n",
    "    if i%100 == 0:\n",
    "        print('Training Step:' + str(i) + ' Accuracy = '+ str(sess.run(accuracy,feed_dict={x:X_test,y_:y_test})) + ' Loss = ' + str(sess.run(cross_entropy,{x:X_train,y_:y_train})))"
   ]
  },
  {
   "cell_type": "code",
   "execution_count": 49,
   "metadata": {},
   "outputs": [
    {
     "data": {
      "image/png": "[encoded data removed]",
      "text/plain": [
       "<matplotlib.figure.Figure at 0x1a09d49ae80>"
      ]
     },
     "metadata": {},
     "output_type": "display_data"
    },
    {
     "name": "stdout",
     "output_type": "stream",
     "text": [
      "Square\n"
     ]
    },
    {
     "data": {
      "image/png": "[encoded data removed]",
      "text/plain": [
       "<matplotlib.figure.Figure at 0x1a01946ad30>"
      ]
     },
     "metadata": {},
     "output_type": "display_data"
    },
    {
     "name": "stdout",
     "output_type": "stream",
     "text": [
      "Circle\n"
     ]
    },
    {
     "data": {
      "image/png": "[encoded data removed]",
      "text/plain": [
       "<matplotlib.figure.Figure at 0x1a01a4e0c88>"
      ]
     },
     "metadata": {},
     "output_type": "display_data"
    },
    {
     "name": "stdout",
     "output_type": "stream",
     "text": [
      "Circle\n"
     ]
    },
    {
     "data": {
      "image/png": "[encoded data removed]",
      "text/plain": [
       "<matplotlib.figure.Figure at 0x1a01b55fef0>"
      ]
     },
     "metadata": {},
     "output_type": "display_data"
    },
    {
     "name": "stdout",
     "output_type": "stream",
     "text": [
      "Star\n"
     ]
    },
    {
     "data": {
      "image/png": "[encoded data removed]",
      "text/plain": [
       "<matplotlib.figure.Figure at 0x1a01b54c080>"
      ]
     },
     "metadata": {},
     "output_type": "display_data"
    },
    {
     "name": "stdout",
     "output_type": "stream",
     "text": [
      "Star\n"
     ]
    },
    {
     "data": {
      "image/png": "[encoded data removed]",
      "text/plain": [
       "<matplotlib.figure.Figure at 0x1a010aec198>"
      ]
     },
     "metadata": {},
     "output_type": "display_data"
    },
    {
     "name": "stdout",
     "output_type": "stream",
     "text": [
      "Circle\n"
     ]
    },
    {
     "data": {
      "image/png": "[encoded data removed]",
      "text/plain": [
       "<matplotlib.figure.Figure at 0x1a01a519da0>"
      ]
     },
     "metadata": {},
     "output_type": "display_data"
    },
    {
     "name": "stdout",
     "output_type": "stream",
     "text": [
      "Square\n"
     ]
    },
    {
     "data": {
      "image/png": "[encoded data removed]",
      "text/plain": [
       "<matplotlib.figure.Figure at 0x1a09d291240>"
      ]
     },
     "metadata": {},
     "output_type": "display_data"
    },
    {
     "name": "stdout",
     "output_type": "stream",
     "text": [
      "Circle\n"
     ]
    },
    {
     "data": {
      "image/png": "[encoded data removed]",
      "text/plain": [
       "<matplotlib.figure.Figure at 0x1a01a50b7f0>"
      ]
     },
     "metadata": {},
     "output_type": "display_data"
    },
    {
     "name": "stdout",
     "output_type": "stream",
     "text": [
      "Circle\n"
     ]
    },
    {
     "data": {
      "image/png": "[encoded data removed]",
      "text/plain": [
       "<matplotlib.figure.Figure at 0x1a09d3a1588>"
      ]
     },
     "metadata": {},
     "output_type": "display_data"
    },
    {
     "name": "stdout",
     "output_type": "stream",
     "text": [
      "Triangle\n"
     ]
    },
    {
     "data": {
      "image/png": "[encoded data removed]",
      "text/plain": [
       "<matplotlib.figure.Figure at 0x1a01a5204e0>"
      ]
     },
     "metadata": {},
     "output_type": "display_data"
    },
    {
     "name": "stdout",
     "output_type": "stream",
     "text": [
      "Square\n"
     ]
    }
   ],
   "source": [
    "for i in range(0,11):\n",
    "    Display_shape_test(i)\n",
    "    answer = sess.run(y, feed_dict={x: X_test})\n",
    "\n",
    "    print(shape_name[answer[i].argmax()])"
   ]
  },
  {
   "cell_type": "code",
   "execution_count": null,
   "metadata": {
    "collapsed": true
   },
   "outputs": [],
   "source": []
  },
  {
   "cell_type": "code",
   "execution_count": null,
   "metadata": {
    "collapsed": true
   },
   "outputs": [],
   "source": []
  }
 ],
 "metadata": {
  "kernelspec": {
   "display_name": "Python 3",
   "language": "python",
   "name": "python3"
  },
  "language_info": {
   "codemirror_mode": {
    "name": "ipython",
    "version": 3
   },
   "file_extension": ".py",
   "mimetype": "text/x-python",
   "name": "python",
   "nbconvert_exporter": "python",
   "pygments_lexer": "ipython3",
   "version": "3.6.3"
  }
 },
 "nbformat": 4,
 "nbformat_minor": 2
}
